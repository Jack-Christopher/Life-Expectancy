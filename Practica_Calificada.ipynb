{
  "nbformat": 4,
  "nbformat_minor": 0,
  "metadata": {
    "colab": {
      "name": "Practica Calificada.ipynb",
      "provenance": [],
      "authorship_tag": "ABX9TyNu37qqD0k3bNhYQTihHYxp",
      "include_colab_link": true
    },
    "kernelspec": {
      "name": "python3",
      "display_name": "Python 3"
    },
    "language_info": {
      "name": "python"
    }
  },
  "cells": [
    {
      "cell_type": "markdown",
      "metadata": {
        "id": "view-in-github",
        "colab_type": "text"
      },
      "source": [
        "<a href=\"https://colab.research.google.com/github/Jack-Christopher/Life-Expectancy/blob/master/Practica_Calificada.ipynb\" target=\"_parent\"><img src=\"https://colab.research.google.com/assets/colab-badge.svg\" alt=\"Open In Colab\"/></a>"
      ]
    },
    {
      "cell_type": "markdown",
      "source": [
        "# Preprocesamiento de Datos\n"
      ],
      "metadata": {
        "id": "KMIPff4w-ez9"
      }
    },
    {
      "cell_type": "code",
      "source": [
        "import pandas as pd\n",
        "data = pd.read_csv(\"https://gitlab.com/pcalcina/test/-/raw/main/weatherHistory.csv\")  # dataframe\n"
      ],
      "metadata": {
        "id": "VMma1XRS-kV0"
      },
      "execution_count": null,
      "outputs": []
    },
    {
      "cell_type": "code",
      "source": [
        "H_T = data[['Humidity', 'Temperature (C)']]\n",
        "H_T"
      ],
      "metadata": {
        "colab": {
          "base_uri": "https://localhost:8080/",
          "height": 424
        },
        "id": "hsX_EMxL-6F8",
        "outputId": "ec912805-d3d8-4922-cabc-058878634b29"
      },
      "execution_count": null,
      "outputs": [
        {
          "output_type": "execute_result",
          "data": {
            "text/plain": [
              "       Humidity  Temperature (C)\n",
              "0          0.89         9.472222\n",
              "1          0.86         9.355556\n",
              "2          0.89         9.377778\n",
              "3          0.83         8.288889\n",
              "4          0.83         8.755556\n",
              "...         ...              ...\n",
              "96448      0.43        26.016667\n",
              "96449      0.48        24.583333\n",
              "96450      0.56        22.038889\n",
              "96451      0.60        21.522222\n",
              "96452      0.61        20.438889\n",
              "\n",
              "[96453 rows x 2 columns]"
            ],
            "text/html": [
              "\n",
              "  <div id=\"df-829d4452-ba0b-40b4-bdbd-b6743f5d03d3\">\n",
              "    <div class=\"colab-df-container\">\n",
              "      <div>\n",
              "<style scoped>\n",
              "    .dataframe tbody tr th:only-of-type {\n",
              "        vertical-align: middle;\n",
              "    }\n",
              "\n",
              "    .dataframe tbody tr th {\n",
              "        vertical-align: top;\n",
              "    }\n",
              "\n",
              "    .dataframe thead th {\n",
              "        text-align: right;\n",
              "    }\n",
              "</style>\n",
              "<table border=\"1\" class=\"dataframe\">\n",
              "  <thead>\n",
              "    <tr style=\"text-align: right;\">\n",
              "      <th></th>\n",
              "      <th>Humidity</th>\n",
              "      <th>Temperature (C)</th>\n",
              "    </tr>\n",
              "  </thead>\n",
              "  <tbody>\n",
              "    <tr>\n",
              "      <th>0</th>\n",
              "      <td>0.89</td>\n",
              "      <td>9.472222</td>\n",
              "    </tr>\n",
              "    <tr>\n",
              "      <th>1</th>\n",
              "      <td>0.86</td>\n",
              "      <td>9.355556</td>\n",
              "    </tr>\n",
              "    <tr>\n",
              "      <th>2</th>\n",
              "      <td>0.89</td>\n",
              "      <td>9.377778</td>\n",
              "    </tr>\n",
              "    <tr>\n",
              "      <th>3</th>\n",
              "      <td>0.83</td>\n",
              "      <td>8.288889</td>\n",
              "    </tr>\n",
              "    <tr>\n",
              "      <th>4</th>\n",
              "      <td>0.83</td>\n",
              "      <td>8.755556</td>\n",
              "    </tr>\n",
              "    <tr>\n",
              "      <th>...</th>\n",
              "      <td>...</td>\n",
              "      <td>...</td>\n",
              "    </tr>\n",
              "    <tr>\n",
              "      <th>96448</th>\n",
              "      <td>0.43</td>\n",
              "      <td>26.016667</td>\n",
              "    </tr>\n",
              "    <tr>\n",
              "      <th>96449</th>\n",
              "      <td>0.48</td>\n",
              "      <td>24.583333</td>\n",
              "    </tr>\n",
              "    <tr>\n",
              "      <th>96450</th>\n",
              "      <td>0.56</td>\n",
              "      <td>22.038889</td>\n",
              "    </tr>\n",
              "    <tr>\n",
              "      <th>96451</th>\n",
              "      <td>0.60</td>\n",
              "      <td>21.522222</td>\n",
              "    </tr>\n",
              "    <tr>\n",
              "      <th>96452</th>\n",
              "      <td>0.61</td>\n",
              "      <td>20.438889</td>\n",
              "    </tr>\n",
              "  </tbody>\n",
              "</table>\n",
              "<p>96453 rows × 2 columns</p>\n",
              "</div>\n",
              "      <button class=\"colab-df-convert\" onclick=\"convertToInteractive('df-829d4452-ba0b-40b4-bdbd-b6743f5d03d3')\"\n",
              "              title=\"Convert this dataframe to an interactive table.\"\n",
              "              style=\"display:none;\">\n",
              "        \n",
              "  <svg xmlns=\"http://www.w3.org/2000/svg\" height=\"24px\"viewBox=\"0 0 24 24\"\n",
              "       width=\"24px\">\n",
              "    <path d=\"M0 0h24v24H0V0z\" fill=\"none\"/>\n",
              "    <path d=\"M18.56 5.44l.94 2.06.94-2.06 2.06-.94-2.06-.94-.94-2.06-.94 2.06-2.06.94zm-11 1L8.5 8.5l.94-2.06 2.06-.94-2.06-.94L8.5 2.5l-.94 2.06-2.06.94zm10 10l.94 2.06.94-2.06 2.06-.94-2.06-.94-.94-2.06-.94 2.06-2.06.94z\"/><path d=\"M17.41 7.96l-1.37-1.37c-.4-.4-.92-.59-1.43-.59-.52 0-1.04.2-1.43.59L10.3 9.45l-7.72 7.72c-.78.78-.78 2.05 0 2.83L4 21.41c.39.39.9.59 1.41.59.51 0 1.02-.2 1.41-.59l7.78-7.78 2.81-2.81c.8-.78.8-2.07 0-2.86zM5.41 20L4 18.59l7.72-7.72 1.47 1.35L5.41 20z\"/>\n",
              "  </svg>\n",
              "      </button>\n",
              "      \n",
              "  <style>\n",
              "    .colab-df-container {\n",
              "      display:flex;\n",
              "      flex-wrap:wrap;\n",
              "      gap: 12px;\n",
              "    }\n",
              "\n",
              "    .colab-df-convert {\n",
              "      background-color: #E8F0FE;\n",
              "      border: none;\n",
              "      border-radius: 50%;\n",
              "      cursor: pointer;\n",
              "      display: none;\n",
              "      fill: #1967D2;\n",
              "      height: 32px;\n",
              "      padding: 0 0 0 0;\n",
              "      width: 32px;\n",
              "    }\n",
              "\n",
              "    .colab-df-convert:hover {\n",
              "      background-color: #E2EBFA;\n",
              "      box-shadow: 0px 1px 2px rgba(60, 64, 67, 0.3), 0px 1px 3px 1px rgba(60, 64, 67, 0.15);\n",
              "      fill: #174EA6;\n",
              "    }\n",
              "\n",
              "    [theme=dark] .colab-df-convert {\n",
              "      background-color: #3B4455;\n",
              "      fill: #D2E3FC;\n",
              "    }\n",
              "\n",
              "    [theme=dark] .colab-df-convert:hover {\n",
              "      background-color: #434B5C;\n",
              "      box-shadow: 0px 1px 3px 1px rgba(0, 0, 0, 0.15);\n",
              "      filter: drop-shadow(0px 1px 2px rgba(0, 0, 0, 0.3));\n",
              "      fill: #FFFFFF;\n",
              "    }\n",
              "  </style>\n",
              "\n",
              "      <script>\n",
              "        const buttonEl =\n",
              "          document.querySelector('#df-829d4452-ba0b-40b4-bdbd-b6743f5d03d3 button.colab-df-convert');\n",
              "        buttonEl.style.display =\n",
              "          google.colab.kernel.accessAllowed ? 'block' : 'none';\n",
              "\n",
              "        async function convertToInteractive(key) {\n",
              "          const element = document.querySelector('#df-829d4452-ba0b-40b4-bdbd-b6743f5d03d3');\n",
              "          const dataTable =\n",
              "            await google.colab.kernel.invokeFunction('convertToInteractive',\n",
              "                                                     [key], {});\n",
              "          if (!dataTable) return;\n",
              "\n",
              "          const docLinkHtml = 'Like what you see? Visit the ' +\n",
              "            '<a target=\"_blank\" href=https://colab.research.google.com/notebooks/data_table.ipynb>data table notebook</a>'\n",
              "            + ' to learn more about interactive tables.';\n",
              "          element.innerHTML = '';\n",
              "          dataTable['output_type'] = 'display_data';\n",
              "          await google.colab.output.renderOutput(dataTable, element);\n",
              "          const docLink = document.createElement('div');\n",
              "          docLink.innerHTML = docLinkHtml;\n",
              "          element.appendChild(docLink);\n",
              "        }\n",
              "      </script>\n",
              "    </div>\n",
              "  </div>\n",
              "  "
            ]
          },
          "metadata": {},
          "execution_count": 3
        }
      ]
    },
    {
      "cell_type": "markdown",
      "source": [
        "1. Mostrar un histograma de las columnas Humidity y Temperature "
      ],
      "metadata": {
        "id": "10BB3tFu-N7x"
      }
    },
    {
      "cell_type": "code",
      "execution_count": null,
      "metadata": {
        "id": "EbpM6SMM9-Je"
      },
      "outputs": [],
      "source": [
        "import matplotlib.pyplot as plot"
      ]
    },
    {
      "cell_type": "code",
      "source": [
        "plot.hist(x=H_T['Humidity'], color='#F2AB6D')\n",
        "plot.show()"
      ],
      "metadata": {
        "colab": {
          "base_uri": "https://localhost:8080/",
          "height": 267
        },
        "id": "RlrRagutARj6",
        "outputId": "1bff7ca4-afe2-44b2-c299-1e68d3409d84"
      },
      "execution_count": null,
      "outputs": [
        {
          "output_type": "display_data",
          "data": {
            "text/plain": [
              "<Figure size 432x288 with 1 Axes>"
            ],
            "image/png": "[encoded data removed]"
          },
          "metadata": {
            "needs_background": "light"
          }
        }
      ]
    },
    {
      "cell_type": "code",
      "source": [
        "plot.hist(x=H_T['Temperature (C)'], color='#F2AB6D')\n",
        "plot.show()"
      ],
      "metadata": {
        "colab": {
          "base_uri": "https://localhost:8080/",
          "height": 265
        },
        "id": "0S4agk0_BDHP",
        "outputId": "1478af09-de7f-42b2-d8c8-d42d328af727"
      },
      "execution_count": null,
      "outputs": [
        {
          "output_type": "display_data",
          "data": {
            "text/plain": [
              "<Figure size 432x288 with 1 Axes>"
            ],
            "image/png": "[encoded data removed]"
          },
          "metadata": {
            "needs_background": "light"
          }
        }
      ]
    },
    {
      "cell_type": "markdown",
      "source": [
        "2. Utilizar StandardScaler para normalizar los valores de las referidas columnas\n",
        "\n"
      ],
      "metadata": {
        "id": "pW07CpD1-XFG"
      }
    },
    {
      "cell_type": "code",
      "source": [
        "from sklearn.preprocessing import StandardScaler\n",
        "scaler = StandardScaler()\n",
        "\n",
        "# transform data\n",
        "scaled = scaler.fit_transform(H_T)\n",
        "H_T = pd.DataFrame(scaled,columns = ['Humidity','Temperature (C)'])\n",
        "H_T"
      ],
      "metadata": {
        "id": "fTqtX8BQBV0w",
        "colab": {
          "base_uri": "https://localhost:8080/"
        },
        "outputId": "90f04519-ec62-4f67-ff9d-96e5d470ae28"
      },
      "execution_count": null,
      "outputs": [
        {
          "output_type": "execute_result",
          "data": {
            "text/plain": [
              "       Humidity  Temperature (C)\n",
              "0      0.793470        -0.257599\n",
              "1      0.639996        -0.269814\n",
              "2      0.793470        -0.267487\n",
              "3      0.486521        -0.381489\n",
              "4      0.486521        -0.332631\n",
              "...         ...              ...\n",
              "96448 -1.559811         1.474532\n",
              "96449 -1.304020         1.324468\n",
              "96450 -0.894753         1.058076\n",
              "96451 -0.690120         1.003983\n",
              "96452 -0.638962         0.890563\n",
              "\n",
              "[96453 rows x 2 columns]"
            ],
            "text/html": [
              "\n",
              "  <div id=\"df-3cb84d9a-0511-48ac-b0bc-97e486bb7299\">\n",
              "    <div class=\"colab-df-container\">\n",
              "      <div>\n",
              "<style scoped>\n",
              "    .dataframe tbody tr th:only-of-type {\n",
              "        vertical-align: middle;\n",
              "    }\n",
              "\n",
              "    .dataframe tbody tr th {\n",
              "        vertical-align: top;\n",
              "    }\n",
              "\n",
              "    .dataframe thead th {\n",
              "        text-align: right;\n",
              "    }\n",
              "</style>\n",
              "<table border=\"1\" class=\"dataframe\">\n",
              "  <thead>\n",
              "    <tr style=\"text-align: right;\">\n",
              "      <th></th>\n",
              "      <th>Humidity</th>\n",
              "      <th>Temperature (C)</th>\n",
              "    </tr>\n",
              "  </thead>\n",
              "  <tbody>\n",
              "    <tr>\n",
              "      <th>0</th>\n",
              "      <td>0.793470</td>\n",
              "      <td>-0.257599</td>\n",
              "    </tr>\n",
              "    <tr>\n",
              "      <th>1</th>\n",
              "      <td>0.639996</td>\n",
              "      <td>-0.269814</td>\n",
              "    </tr>\n",
              "    <tr>\n",
              "      <th>2</th>\n",
              "      <td>0.793470</td>\n",
              "      <td>-0.267487</td>\n",
              "    </tr>\n",
              "    <tr>\n",
              "      <th>3</th>\n",
              "      <td>0.486521</td>\n",
              "      <td>-0.381489</td>\n",
              "    </tr>\n",
              "    <tr>\n",
              "      <th>4</th>\n",
              "      <td>0.486521</td>\n",
              "      <td>-0.332631</td>\n",
              "    </tr>\n",
              "    <tr>\n",
              "      <th>...</th>\n",
              "      <td>...</td>\n",
              "      <td>...</td>\n",
              "    </tr>\n",
              "    <tr>\n",
              "      <th>96448</th>\n",
              "      <td>-1.559811</td>\n",
              "      <td>1.474532</td>\n",
              "    </tr>\n",
              "    <tr>\n",
              "      <th>96449</th>\n",
              "      <td>-1.304020</td>\n",
              "      <td>1.324468</td>\n",
              "    </tr>\n",
              "    <tr>\n",
              "      <th>96450</th>\n",
              "      <td>-0.894753</td>\n",
              "      <td>1.058076</td>\n",
              "    </tr>\n",
              "    <tr>\n",
              "      <th>96451</th>\n",
              "      <td>-0.690120</td>\n",
              "      <td>1.003983</td>\n",
              "    </tr>\n",
              "    <tr>\n",
              "      <th>96452</th>\n",
              "      <td>-0.638962</td>\n",
              "      <td>0.890563</td>\n",
              "    </tr>\n",
              "  </tbody>\n",
              "</table>\n",
              "<p>96453 rows × 2 columns</p>\n",
              "</div>\n",
              "      <button class=\"colab-df-convert\" onclick=\"convertToInteractive('df-3cb84d9a-0511-48ac-b0bc-97e486bb7299')\"\n",
              "              title=\"Convert this dataframe to an interactive table.\"\n",
              "              style=\"display:none;\">\n",
              "        \n",
              "  <svg xmlns=\"http://www.w3.org/2000/svg\" height=\"24px\"viewBox=\"0 0 24 24\"\n",
              "       width=\"24px\">\n",
              "    <path d=\"M0 0h24v24H0V0z\" fill=\"none\"/>\n",
              "    <path d=\"M18.56 5.44l.94 2.06.94-2.06 2.06-.94-2.06-.94-.94-2.06-.94 2.06-2.06.94zm-11 1L8.5 8.5l.94-2.06 2.06-.94-2.06-.94L8.5 2.5l-.94 2.06-2.06.94zm10 10l.94 2.06.94-2.06 2.06-.94-2.06-.94-.94-2.06-.94 2.06-2.06.94z\"/><path d=\"M17.41 7.96l-1.37-1.37c-.4-.4-.92-.59-1.43-.59-.52 0-1.04.2-1.43.59L10.3 9.45l-7.72 7.72c-.78.78-.78 2.05 0 2.83L4 21.41c.39.39.9.59 1.41.59.51 0 1.02-.2 1.41-.59l7.78-7.78 2.81-2.81c.8-.78.8-2.07 0-2.86zM5.41 20L4 18.59l7.72-7.72 1.47 1.35L5.41 20z\"/>\n",
              "  </svg>\n",
              "      </button>\n",
              "      \n",
              "  <style>\n",
              "    .colab-df-container {\n",
              "      display:flex;\n",
              "      flex-wrap:wrap;\n",
              "      gap: 12px;\n",
              "    }\n",
              "\n",
              "    .colab-df-convert {\n",
              "      background-color: #E8F0FE;\n",
              "      border: none;\n",
              "      border-radius: 50%;\n",
              "      cursor: pointer;\n",
              "      display: none;\n",
              "      fill: #1967D2;\n",
              "      height: 32px;\n",
              "      padding: 0 0 0 0;\n",
              "      width: 32px;\n",
              "    }\n",
              "\n",
              "    .colab-df-convert:hover {\n",
              "      background-color: #E2EBFA;\n",
              "      box-shadow: 0px 1px 2px rgba(60, 64, 67, 0.3), 0px 1px 3px 1px rgba(60, 64, 67, 0.15);\n",
              "      fill: #174EA6;\n",
              "    }\n",
              "\n",
              "    [theme=dark] .colab-df-convert {\n",
              "      background-color: #3B4455;\n",
              "      fill: #D2E3FC;\n",
              "    }\n",
              "\n",
              "    [theme=dark] .colab-df-convert:hover {\n",
              "      background-color: #434B5C;\n",
              "      box-shadow: 0px 1px 3px 1px rgba(0, 0, 0, 0.15);\n",
              "      filter: drop-shadow(0px 1px 2px rgba(0, 0, 0, 0.3));\n",
              "      fill: #FFFFFF;\n",
              "    }\n",
              "  </style>\n",
              "\n",
              "      <script>\n",
              "        const buttonEl =\n",
              "          document.querySelector('#df-3cb84d9a-0511-48ac-b0bc-97e486bb7299 button.colab-df-convert');\n",
              "        buttonEl.style.display =\n",
              "          google.colab.kernel.accessAllowed ? 'block' : 'none';\n",
              "\n",
              "        async function convertToInteractive(key) {\n",
              "          const element = document.querySelector('#df-3cb84d9a-0511-48ac-b0bc-97e486bb7299');\n",
              "          const dataTable =\n",
              "            await google.colab.kernel.invokeFunction('convertToInteractive',\n",
              "                                                     [key], {});\n",
              "          if (!dataTable) return;\n",
              "\n",
              "          const docLinkHtml = 'Like what you see? Visit the ' +\n",
              "            '<a target=\"_blank\" href=https://colab.research.google.com/notebooks/data_table.ipynb>data table notebook</a>'\n",
              "            + ' to learn more about interactive tables.';\n",
              "          element.innerHTML = '';\n",
              "          dataTable['output_type'] = 'display_data';\n",
              "          await google.colab.output.renderOutput(dataTable, element);\n",
              "          const docLink = document.createElement('div');\n",
              "          docLink.innerHTML = docLinkHtml;\n",
              "          element.appendChild(docLink);\n",
              "        }\n",
              "      </script>\n",
              "    </div>\n",
              "  </div>\n",
              "  "
            ]
          },
          "metadata": {},
          "execution_count": 7
        }
      ]
    },
    {
      "cell_type": "markdown",
      "source": [
        "3. Utilizar los métodos de Mínimos Cuadrados (Linear Regression), RANSAC, Ridge y Lasso para predecir Temperature a partir de Humidity. Dividir el conjunto de datos en entrenamiento y test, siendo el conjunto de test el 30% de todo el conjunto de datos"
      ],
      "metadata": {
        "id": "pY6VZ5SV-Y6T"
      }
    },
    {
      "cell_type": "code",
      "source": [
        "from sklearn.model_selection import train_test_split\n",
        "#X_train, X_test, y_train, y_test = train_test_split(X, y, test_size=0.30, random_state=42)\n",
        "\n",
        "plot.scatter(H_T['Humidity'],H_T['Temperature (C)'])\n"
      ],
      "metadata": {
        "colab": {
          "base_uri": "https://localhost:8080/",
          "height": 282
        },
        "id": "hO2AWoPsB0fb",
        "outputId": "b8df40c8-5257-4be4-cf9e-43d6b9cf7442"
      },
      "execution_count": null,
      "outputs": [
        {
          "output_type": "execute_result",
          "data": {
            "text/plain": [
              "<matplotlib.collections.PathCollection at 0x7f776bd26bd0>"
            ]
          },
          "metadata": {},
          "execution_count": 82
        },
        {
          "output_type": "display_data",
          "data": {
            "text/plain": [
              "<Figure size 432x288 with 1 Axes>"
            ],
            "image/png": "[encoded data removed]"
          },
          "metadata": {
            "needs_background": "light"
          }
        }
      ]
    },
    {
      "cell_type": "code",
      "source": [
        "import numpy as np\n",
        "from sklearn.linear_model import LinearRegression, RANSACRegressor, Ridge, Lasso\n",
        "\n",
        "X = H_T['Humidity'].to_numpy().reshape(-1, 1)\n",
        "y = H_T['Temperature (C)'].to_numpy().reshape(-1, 1)\n",
        "\n",
        "X_train, X_test, y_train, y_test = train_test_split(X, y, test_size=0.30, random_state=10)\n",
        "\n",
        "\n",
        "ransac = RANSACRegressor(base_estimator=LinearRegression(),\n",
        "                         min_samples=500, max_trials=100, loss='absolute_loss', \n",
        "                         random_state=42, residual_threshold=None)\n",
        "# Fit the model\n",
        "ransac.fit(X_train, y_train)\n",
        "\n",
        "\n",
        "linear_model = LinearRegression(fit_intercept=True)\n",
        "# Fit the model\n",
        "linear_model.fit(X_train, y_train)\n",
        "\n",
        "\n",
        "ridge_model = Ridge(alpha=0.05)\n",
        "# Fit the model\n",
        "ridge_model.fit(X_train, y_train)\n",
        "\n",
        "\n",
        "lasso_model = Lasso(alpha=0.05)\n",
        "# Fit the model\n",
        "lasso_model.fit(X_train, y_train)\n",
        "\n",
        "#line_X = np.arange(0, 1.0, 0.01)\n",
        "\n",
        "#line_y_ransac = ransac.predict(line_X[:, np.newaxis])\n",
        "#line_y_linear = linear_model.predict(line_X[:, np.newaxis])\n",
        "#line_y_ridge = ridge_model.predict(line_X[:, np.newaxis])\n",
        "#line_y_lasso = lasso_model.predict(line_X[:, np.newaxis])\n",
        "\n",
        "line_y_ransac = ransac.predict(X_test)\n",
        "line_y_linear = linear_model.predict(X_test)\n",
        "line_y_ridge = ridge_model.predict(X_test)\n",
        "line_y_lasso = lasso_model.predict(X_test)\n",
        "\n",
        "\n"
      ],
      "metadata": {
        "colab": {
          "base_uri": "https://localhost:8080/"
        },
        "id": "tlMP0PddDLIa",
        "outputId": "b81a090f-8e8b-4421-fa1d-771c1d6362c5"
      },
      "execution_count": null,
      "outputs": [
        {
          "output_type": "stream",
          "name": "stderr",
          "text": [
            "/usr/local/lib/python3.7/dist-packages/sklearn/linear_model/_ransac.py:358: FutureWarning: The loss 'absolute_loss' was deprecated in v1.0 and will be removed in version 1.2. Use `loss='absolute_error'` which is equivalent.\n",
            "  FutureWarning,\n"
          ]
        }
      ]
    },
    {
      "cell_type": "markdown",
      "source": [
        "4. Crear un DataFrame para comparar los referidos métodos utilizando las métricas MAE, MSE y RMSE"
      ],
      "metadata": {
        "id": "pG-_mlAb-bPo"
      }
    },
    {
      "cell_type": "markdown",
      "source": [
        "## Functions"
      ],
      "metadata": {
        "id": "IAbmxp42MFCD"
      }
    },
    {
      "cell_type": "code",
      "source": [
        "from sklearn import metrics\n",
        "from sklearn.model_selection import cross_val_score\n",
        "\n",
        "def cross_val(model):\n",
        "    pred = cross_val_score(model, X, y, cv=10)\n",
        "    return pred.mean()\n",
        "\n",
        "def print_evaluate(true, predicted):  \n",
        "    mae = metrics.mean_absolute_error(true, predicted)\n",
        "    mse = metrics.mean_squared_error(true, predicted)\n",
        "    rmse = np.sqrt(metrics.mean_squared_error(true, predicted))\n",
        "    r2_square = metrics.r2_score(true, predicted)\n",
        "    print('MAE:', mae)\n",
        "    print('MSE:', mse)\n",
        "    print('RMSE:', rmse)\n",
        "    #print('R2 Square', r2_square)\n",
        "    print('__________________________________')\n",
        "    \n",
        "def evaluate(true, predicted):\n",
        "    mae = metrics.mean_absolute_error(true, predicted)\n",
        "    mse = metrics.mean_squared_error(true, predicted)\n",
        "    rmse = np.sqrt(metrics.mean_squared_error(true, predicted))\n",
        "    r2_square = metrics.r2_score(true, predicted)\n",
        "    return mae, mse, rmse, r2_square"
      ],
      "metadata": {
        "id": "x9XnH4nvMIkf"
      },
      "execution_count": null,
      "outputs": []
    },
    {
      "cell_type": "code",
      "source": [
        "from sklearn.linear_model import LinearRegression, RANSACRegressor, Ridge, Lasso\n",
        "\n",
        "ransac_test_pred = ransac.predict(X_test)\n",
        "linear_test_pred = linear_model.predict(X_test)\n",
        "ridge_test_pred = ridge_model.predict(X_test)\n",
        "lasso_test_pred = lasso_model.predict(X_test)\n",
        "\n",
        "ransac_train_pred = ransac.predict(X_train)\n",
        "linear_train_pred = linear_model.predict(X_train)\n",
        "ridge_train_pred = ridge_model.predict(X_train)\n",
        "lasso_train_pred = lasso_model.predict(X_train)\n",
        "\n",
        "print('===================== Linear =====================')\n",
        "print('Test set evaluation:\\n_____________________________________')\n",
        "print_evaluate(y_test, linear_test_pred)\n",
        "print('------------------------------------')\n",
        "print('Train set evaluation:\\n_____________________________________')\n",
        "print_evaluate(y_train, linear_train_pred)\n",
        "print()\n",
        "\n",
        "print('===================== RANSAC =====================')\n",
        "print('Test set evaluation:\\n_____________________________________')\n",
        "print_evaluate(y_test, ransac_test_pred)\n",
        "print('------------------------------------')\n",
        "print('Train set evaluation:\\n_____________________________________')\n",
        "print_evaluate(y_train, ransac_train_pred)\n",
        "print()\n",
        "\n",
        "print('===================== RIDGE =====================')\n",
        "print('Test set evaluation:\\n_____________________________________')\n",
        "print_evaluate(y_test, ridge_test_pred)\n",
        "print('------------------------------------')\n",
        "print('Train set evaluation:\\n_____________________________________')\n",
        "print_evaluate(y_train, ridge_train_pred)\n",
        "print()\n",
        "\n",
        "print('===================== LASSO =====================')\n",
        "print('Test set evaluation:\\n_____________________________________')\n",
        "print_evaluate(y_test, lasso_test_pred)\n",
        "print('------------------------------------')\n",
        "print('Train set evaluation:\\n_____________________________________')\n",
        "print_evaluate(y_train, lasso_train_pred)\n"
      ],
      "metadata": {
        "colab": {
          "base_uri": "https://localhost:8080/"
        },
        "id": "yukXqc85KkY1",
        "outputId": "d36e8602-87eb-443c-e4f3-41c48406ac4b"
      },
      "execution_count": null,
      "outputs": [
        {
          "output_type": "stream",
          "name": "stdout",
          "text": [
            "===================== Linear =====================\n",
            "Test set evaluation:\n",
            "_____________________________________\n",
            "MAE: 0.6316604285871849\n",
            "MSE: 0.6001022111746226\n",
            "RMSE: 0.7746626434614119\n",
            "__________________________________\n",
            "------------------------------------\n",
            "Train set evaluation:\n",
            "_____________________________________\n",
            "MAE: 0.6317386412687612\n",
            "MSE: 0.600321314868009\n",
            "RMSE: 0.7748040493363525\n",
            "__________________________________\n",
            "\n",
            "===================== RANSAC =====================\n",
            "Test set evaluation:\n",
            "_____________________________________\n",
            "MAE: 0.6318825733673267\n",
            "MSE: 0.6208557886887163\n",
            "RMSE: 0.7879440263678101\n",
            "__________________________________\n",
            "------------------------------------\n",
            "Train set evaluation:\n",
            "_____________________________________\n",
            "MAE: 0.6305987732853221\n",
            "MSE: 0.6205899231259999\n",
            "RMSE: 0.7877752998958523\n",
            "__________________________________\n",
            "\n",
            "===================== RIDGE =====================\n",
            "Test set evaluation:\n",
            "_____________________________________\n",
            "MAE: 0.6316604545621912\n",
            "MSE: 0.600102207437853\n",
            "RMSE: 0.774662641049543\n",
            "__________________________________\n",
            "------------------------------------\n",
            "Train set evaluation:\n",
            "_____________________________________\n",
            "MAE: 0.6317386725196082\n",
            "MSE: 0.6003213148682284\n",
            "RMSE: 0.774804049336494\n",
            "__________________________________\n",
            "\n",
            "===================== LASSO =====================\n",
            "Test set evaluation:\n",
            "_____________________________________\n",
            "MAE: 0.6358933682088179\n",
            "MSE: 0.6021750001348866\n",
            "RMSE: 0.7759993557567471\n",
            "__________________________________\n",
            "------------------------------------\n",
            "Train set evaluation:\n",
            "_____________________________________\n",
            "MAE: 0.6364902400107741\n",
            "MSE: 0.6028146256284332\n",
            "RMSE: 0.7764113765449558\n",
            "__________________________________\n"
          ]
        }
      ]
    },
    {
      "cell_type": "code",
      "source": [
        "results_df = pd.DataFrame(data=[[\"Linear Regression\", *evaluate(y_test, linear_test_pred) , cross_val(LinearRegression())]], \n",
        "                          columns=['Model', 'MAE', 'MSE', 'RMSE', 'R2 Square', \"Cross Validation\"])\n",
        "#results_df\n",
        "\n",
        "\n",
        "results_df_2 = pd.DataFrame(data=[[\"RANSAC Regression\", *evaluate(y_test, ransac_test_pred) , cross_val(RANSACRegressor())]], \n",
        "                            columns=['Model', 'MAE', 'MSE', 'RMSE', 'R2 Square', \"Cross Validation\"])\n",
        "results_df = results_df.append(results_df_2, ignore_index=True)\n",
        "#results_df\n",
        "\n",
        "results_df_3 = pd.DataFrame(data=[[\"Ridge Regression\", *evaluate(y_test, ridge_test_pred) , cross_val(Ridge())]], \n",
        "                            columns=['Model', 'MAE', 'MSE', 'RMSE', 'R2 Square', \"Cross Validation\"])\n",
        "results_df = results_df.append(results_df_3, ignore_index=True)\n",
        "#results_df\n",
        "\n",
        "results_df_4 = pd.DataFrame(data=[[\"Lasso Regression\", *evaluate(y_test, lasso_test_pred) , cross_val(Lasso())]], \n",
        "                            columns=['Model', 'MAE', 'MSE', 'RMSE', 'R2 Square', \"Cross Validation\"])\n",
        "results_df = results_df.append(results_df_4, ignore_index=True)\n",
        "\n",
        "results_df"
      ],
      "metadata": {
        "colab": {
          "base_uri": "https://localhost:8080/",
          "height": 175
        },
        "id": "IEJXyX3KOiLH",
        "outputId": "f13f55cb-9a48-44fe-9386-bb89c715ec55"
      },
      "execution_count": null,
      "outputs": [
        {
          "output_type": "execute_result",
          "data": {
            "text/plain": [
              "               Model       MAE       MSE      RMSE  R2 Square  \\\n",
              "0  Linear Regression  0.631660  0.600102  0.774663   0.396148   \n",
              "1  RANSAC Regression  0.631883  0.620856  0.787944   0.375265   \n",
              "2   Ridge Regression  0.631660  0.600102  0.774663   0.396148   \n",
              "3   Lasso Regression  0.635893  0.602175  0.775999   0.394062   \n",
              "\n",
              "   Cross Validation  \n",
              "0          0.391105  \n",
              "1          0.327998  \n",
              "2          0.391105  \n",
              "3         -0.004564  "
            ],
            "text/html": [
              "\n",
              "  <div id=\"df-916aad1f-1ca9-4e7a-9b3c-e22416b6ca2d\">\n",
              "    <div class=\"colab-df-container\">\n",
              "      <div>\n",
              "<style scoped>\n",
              "    .dataframe tbody tr th:only-of-type {\n",
              "        vertical-align: middle;\n",
              "    }\n",
              "\n",
              "    .dataframe tbody tr th {\n",
              "        vertical-align: top;\n",
              "    }\n",
              "\n",
              "    .dataframe thead th {\n",
              "        text-align: right;\n",
              "    }\n",
              "</style>\n",
              "<table border=\"1\" class=\"dataframe\">\n",
              "  <thead>\n",
              "    <tr style=\"text-align: right;\">\n",
              "      <th></th>\n",
              "      <th>Model</th>\n",
              "      <th>MAE</th>\n",
              "      <th>MSE</th>\n",
              "      <th>RMSE</th>\n",
              "      <th>R2 Square</th>\n",
              "      <th>Cross Validation</th>\n",
              "    </tr>\n",
              "  </thead>\n",
              "  <tbody>\n",
              "    <tr>\n",
              "      <th>0</th>\n",
              "      <td>Linear Regression</td>\n",
              "      <td>0.631660</td>\n",
              "      <td>0.600102</td>\n",
              "      <td>0.774663</td>\n",
              "      <td>0.396148</td>\n",
              "      <td>0.391105</td>\n",
              "    </tr>\n",
              "    <tr>\n",
              "      <th>1</th>\n",
              "      <td>RANSAC Regression</td>\n",
              "      <td>0.631883</td>\n",
              "      <td>0.620856</td>\n",
              "      <td>0.787944</td>\n",
              "      <td>0.375265</td>\n",
              "      <td>0.327998</td>\n",
              "    </tr>\n",
              "    <tr>\n",
              "      <th>2</th>\n",
              "      <td>Ridge Regression</td>\n",
              "      <td>0.631660</td>\n",
              "      <td>0.600102</td>\n",
              "      <td>0.774663</td>\n",
              "      <td>0.396148</td>\n",
              "      <td>0.391105</td>\n",
              "    </tr>\n",
              "    <tr>\n",
              "      <th>3</th>\n",
              "      <td>Lasso Regression</td>\n",
              "      <td>0.635893</td>\n",
              "      <td>0.602175</td>\n",
              "      <td>0.775999</td>\n",
              "      <td>0.394062</td>\n",
              "      <td>-0.004564</td>\n",
              "    </tr>\n",
              "  </tbody>\n",
              "</table>\n",
              "</div>\n",
              "      <button class=\"colab-df-convert\" onclick=\"convertToInteractive('df-916aad1f-1ca9-4e7a-9b3c-e22416b6ca2d')\"\n",
              "              title=\"Convert this dataframe to an interactive table.\"\n",
              "              style=\"display:none;\">\n",
              "        \n",
              "  <svg xmlns=\"http://www.w3.org/2000/svg\" height=\"24px\"viewBox=\"0 0 24 24\"\n",
              "       width=\"24px\">\n",
              "    <path d=\"M0 0h24v24H0V0z\" fill=\"none\"/>\n",
              "    <path d=\"M18.56 5.44l.94 2.06.94-2.06 2.06-.94-2.06-.94-.94-2.06-.94 2.06-2.06.94zm-11 1L8.5 8.5l.94-2.06 2.06-.94-2.06-.94L8.5 2.5l-.94 2.06-2.06.94zm10 10l.94 2.06.94-2.06 2.06-.94-2.06-.94-.94-2.06-.94 2.06-2.06.94z\"/><path d=\"M17.41 7.96l-1.37-1.37c-.4-.4-.92-.59-1.43-.59-.52 0-1.04.2-1.43.59L10.3 9.45l-7.72 7.72c-.78.78-.78 2.05 0 2.83L4 21.41c.39.39.9.59 1.41.59.51 0 1.02-.2 1.41-.59l7.78-7.78 2.81-2.81c.8-.78.8-2.07 0-2.86zM5.41 20L4 18.59l7.72-7.72 1.47 1.35L5.41 20z\"/>\n",
              "  </svg>\n",
              "      </button>\n",
              "      \n",
              "  <style>\n",
              "    .colab-df-container {\n",
              "      display:flex;\n",
              "      flex-wrap:wrap;\n",
              "      gap: 12px;\n",
              "    }\n",
              "\n",
              "    .colab-df-convert {\n",
              "      background-color: #E8F0FE;\n",
              "      border: none;\n",
              "      border-radius: 50%;\n",
              "      cursor: pointer;\n",
              "      display: none;\n",
              "      fill: #1967D2;\n",
              "      height: 32px;\n",
              "      padding: 0 0 0 0;\n",
              "      width: 32px;\n",
              "    }\n",
              "\n",
              "    .colab-df-convert:hover {\n",
              "      background-color: #E2EBFA;\n",
              "      box-shadow: 0px 1px 2px rgba(60, 64, 67, 0.3), 0px 1px 3px 1px rgba(60, 64, 67, 0.15);\n",
              "      fill: #174EA6;\n",
              "    }\n",
              "\n",
              "    [theme=dark] .colab-df-convert {\n",
              "      background-color: #3B4455;\n",
              "      fill: #D2E3FC;\n",
              "    }\n",
              "\n",
              "    [theme=dark] .colab-df-convert:hover {\n",
              "      background-color: #434B5C;\n",
              "      box-shadow: 0px 1px 3px 1px rgba(0, 0, 0, 0.15);\n",
              "      filter: drop-shadow(0px 1px 2px rgba(0, 0, 0, 0.3));\n",
              "      fill: #FFFFFF;\n",
              "    }\n",
              "  </style>\n",
              "\n",
              "      <script>\n",
              "        const buttonEl =\n",
              "          document.querySelector('#df-916aad1f-1ca9-4e7a-9b3c-e22416b6ca2d button.colab-df-convert');\n",
              "        buttonEl.style.display =\n",
              "          google.colab.kernel.accessAllowed ? 'block' : 'none';\n",
              "\n",
              "        async function convertToInteractive(key) {\n",
              "          const element = document.querySelector('#df-916aad1f-1ca9-4e7a-9b3c-e22416b6ca2d');\n",
              "          const dataTable =\n",
              "            await google.colab.kernel.invokeFunction('convertToInteractive',\n",
              "                                                     [key], {});\n",
              "          if (!dataTable) return;\n",
              "\n",
              "          const docLinkHtml = 'Like what you see? Visit the ' +\n",
              "            '<a target=\"_blank\" href=https://colab.research.google.com/notebooks/data_table.ipynb>data table notebook</a>'\n",
              "            + ' to learn more about interactive tables.';\n",
              "          element.innerHTML = '';\n",
              "          dataTable['output_type'] = 'display_data';\n",
              "          await google.colab.output.renderOutput(dataTable, element);\n",
              "          const docLink = document.createElement('div');\n",
              "          docLink.innerHTML = docLinkHtml;\n",
              "          element.appendChild(docLink);\n",
              "        }\n",
              "      </script>\n",
              "    </div>\n",
              "  </div>\n",
              "  "
            ]
          },
          "metadata": {},
          "execution_count": 109
        }
      ]
    },
    {
      "cell_type": "markdown",
      "source": [
        "5. Hacer un gráfico comparando las predicciones de todos los métodos, utilizando un color diferente para cada método. Los gráficos deberán mostrarse encima de un scatter plot de los valores originales."
      ],
      "metadata": {
        "id": "GEnhCOwS-c5_"
      }
    },
    {
      "cell_type": "code",
      "source": [
        "plot.scatter(H_T['Humidity'],H_T['Temperature (C)'])\n",
        "\n",
        "plot.plot(X_test, line_y_linear, color='red', lw=2)\n",
        "plot.plot(X_test, line_y_ransac, color='black', lw=2)\n",
        "plot.plot(X_test, line_y_ridge, color='green', lw=2)\n",
        "plot.plot(X_test, line_y_lasso, color='yellow', lw=2)\n",
        "\n",
        "plot.xlabel('Humidity', fontsize=15)\n",
        "plot.ylabel('Temperature (C)', fontsize=15)\n",
        "plot.legend(loc='upper left', fontsize=12)\n",
        "\n",
        "plot.show()"
      ],
      "metadata": {
        "colab": {
          "base_uri": "https://localhost:8080/",
          "height": 301
        },
        "id": "9yo1NALRNs2q",
        "outputId": "394c41db-aaa9-4735-d52d-a3cdaa1886eb"
      },
      "execution_count": null,
      "outputs": [
        {
          "output_type": "stream",
          "name": "stderr",
          "text": [
            "No handles with labels found to put in legend.\n"
          ]
        },
        {
          "output_type": "display_data",
          "data": {
            "text/plain": [
              "<Figure size 432x288 with 1 Axes>"
            ],
            "image/png": "[encoded data removed]"
          },
          "metadata": {
            "needs_background": "light"
          }
        }
      ]
    }
  ]
}